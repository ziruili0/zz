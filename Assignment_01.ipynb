{
 "cells": [
  {
   "cell_type": "markdown",
   "metadata": {
    "colab_type": "text",
    "id": "zc5nWPw9RMn3"
   },
   "source": [
    "# Homework Assignment 1 - (Question 4) - Solutions\n",
    "\n",
    "## <u>Case Study</u>: Global City Well-Being Analysis\n",
    "\n",
    "\n",
    "### Motivation:\n",
    "\n",
    "Understanding the dynamics of urban living is useful for policymakers, businesses, and individuals considering relocation. By analyzing key factors that contribute to the quality of life in cities, we can gain insights into the strengths and weaknesses of different urban environments. \n",
    "\n",
    "Clustering cities based on numerical `\"well-being metrics\"` like such as:\n",
    "* `Purchase Power`\n",
    "* `Health Care`\n",
    "* `Pollution`\n",
    "* `Quality of Life`\n",
    "* `Crime Rating`\n",
    "\n",
    "allows us to identify patterns and group cities with similar characteristics. \n",
    "\n",
    "By analyzing any clusters that we find, this can help people wanting to move make informed decisions about where to live, where to invest, and how to improve urban conditions. The results of such clustering can provide a foundation for further analysis and strategic planning in urban development.\n",
    "\n",
    "\n",
    "\n",
    "\n",
    "### Dataset Background\n",
    "\n",
    "\n",
    "The observations in the `movehub_data_cleaned.csv` file in the zip file contains data for each of these `5 numerical attributes` for each of these for 185 global cities. This data was extracted from movehub.com.\n",
    "The full dataset and more information about the full dataset can be found here:\n",
    "https://www.kaggle.com/datasets/blitzr/movehub-city-rankings?select=movehubqualityoflife.csv\n",
    "\n",
    "\n",
    "\n",
    "### Research Questions\n",
    "\n",
    "In this analysis we would like to answer the following questions about the dataset.\n",
    "1. Is this dataset clusterable?\n",
    "2. If so, how many clusters are there in the dataset?\n",
    "3. What `well-being metrics` characterize each of the clusters that we find? *For instance, is there a cluster that has lower `purchase power` than others (downside), but also happens to have lower `pollution` than other clusters (upside)? This might be useful for people wanting to move that don't mind having a lower purchase power, if it means living in a city with less pollution.*\n",
    "\n",
    "<hr>\n",
    "\n"
   ]
  },
  {
   "cell_type": "markdown",
   "metadata": {
    "colab_type": "text",
    "id": "qToPhyosRVad"
   },
   "source": [
    "### Imports"
   ]
  },
  {
   "cell_type": "code",
   "execution_count": null,
   "metadata": {
    "colab": {
     "base_uri": "https://localhost:8080/",
     "height": 72
    },
    "colab_type": "code",
    "id": "q7_lWF0DCEJb",
    "outputId": "b22bf52e-1be7-431c-de10-b4edd32926a5"
   },
   "outputs": [],
   "source": []
  },
  {
   "cell_type": "markdown",
   "metadata": {
    "colab_type": "text",
    "id": "bxs1xVQqK-wf"
   },
   "source": [
    "### 4.1. Reading and Examining the csv\n",
    "1. Read the `movehub_data_cleaned.csv` into a dataframe. Call it df.\n",
    "2. Show the first 5 rows of this dataframe."
   ]
  },
  {
   "cell_type": "code",
   "execution_count": null,
   "metadata": {
    "colab": {},
    "colab_type": "code",
    "id": "cTaiat0WSIsH"
   },
   "outputs": [],
   "source": []
  },
  {
   "cell_type": "code",
   "execution_count": null,
   "metadata": {},
   "outputs": [],
   "source": []
  },
  {
   "cell_type": "markdown",
   "metadata": {},
   "source": [
    "### 4.2. Dataset for Clustering\n",
    "\n",
    "Let's create a dataframe of just the 5 numerical `well-being metrics` which we intend to cluster, dropping the `City` and `Country` variables.\n",
    "\n",
    "1. First create a copy of the `df` dataframe you might call it `X`.\n",
    "2. And then drop the categorical variables. \n",
    "\n",
    "Hint: `X=X.drop(['City','Country'], axis=1)`"
   ]
  },
  {
   "cell_type": "code",
   "execution_count": null,
   "metadata": {},
   "outputs": [],
   "source": []
  },
  {
   "cell_type": "markdown",
   "metadata": {},
   "source": [
    "### 4.3. Describing each numerical variable in the dataframe. \n",
    "\n",
    "Create a histogram for each of the well-being metrics in the dataset."
   ]
  },
  {
   "cell_type": "code",
   "execution_count": null,
   "metadata": {},
   "outputs": [],
   "source": []
  },
  {
   "cell_type": "markdown",
   "metadata": {},
   "source": [
    "### 4.4. Describing the relationship between each pair numerical variable in the dataframe. \n",
    "\n",
    "For each pair of well-being metrics in this dataframe, plot a scatterplot."
   ]
  },
  {
   "cell_type": "code",
   "execution_count": null,
   "metadata": {},
   "outputs": [],
   "source": []
  },
  {
   "cell_type": "markdown",
   "metadata": {},
   "source": [
    "### 4.5. Create an elbow plot for this dataframe X. \n",
    "\n",
    "Create an k-means elbow plot for this dataframe X.\n",
    "* Your elbow plot should consider clusterings with k=1, k=2, ..., k=`18` clusters\n",
    "* For each k, your elbow plot should find the average inertia of `4` trial clusterings"
   ]
  },
  {
   "cell_type": "code",
   "execution_count": null,
   "metadata": {
    "colab": {
     "base_uri": "https://localhost:8080/",
     "height": 295
    },
    "colab_type": "code",
    "id": "lruX1HdPL9xr",
    "outputId": "ac5a4586-5113-4b98-e211-5bb7e39b3252"
   },
   "outputs": [],
   "source": []
  },
  {
   "cell_type": "markdown",
   "metadata": {},
   "source": [
    "### 4.6. Does this elbow plot suggest that the dataset is clusterable by k-means? Explain.\n"
   ]
  },
  {
   "cell_type": "markdown",
   "metadata": {},
   "source": []
  },
  {
   "cell_type": "markdown",
   "metadata": {},
   "source": [
    "### 4.7. How many clusters does this elbow plot suggest we should use in k-means? Explain.\n",
    "*Somewhat Subjective: As long as your explain yourself and the logic is correct then you will get full credit.*"
   ]
  },
  {
   "cell_type": "markdown",
   "metadata": {},
   "source": []
  },
  {
   "cell_type": "markdown",
   "metadata": {
    "colab_type": "text",
    "id": "MsS6wPJGXCNW"
   },
   "source": [
    "### 4.8. Cluster the data\n",
    "\n",
    "Using the cluster number that you selected in question above, clusters the dataframe using k-means.\n",
    "\n",
    "**<u>Note</u>: In sklearn, you can set a random seed for non-deterministic functions by using the random_state parameter. Within your KMeans() function in this problem, you should set an additional parameter with `random_state=101`.**\n",
    "\n",
    "Save the cluster labels of your final clustering in a new column of the **df** dataframe called 'predicted_cluster'.\n",
    "\n"
   ]
  },
  {
   "cell_type": "code",
   "execution_count": null,
   "metadata": {
    "colab": {},
    "colab_type": "code",
    "id": "cB0NxOy-O6pq"
   },
   "outputs": [],
   "source": []
  },
  {
   "cell_type": "markdown",
   "metadata": {},
   "source": [
    "### 4.9 Create side-by-side boxplots visualizations. \n",
    "\n",
    "For each of the `well-being metrics` create a side-by-side boxplots visualization. Within each visualization, there should be a boxplot that corresponds to each `predicted_cluster` label."
   ]
  },
  {
   "cell_type": "code",
   "execution_count": null,
   "metadata": {},
   "outputs": [],
   "source": []
  },
  {
   "cell_type": "markdown",
   "metadata": {},
   "source": [
    "### 4.10. Describing the clusters \n",
    "\n",
    "Finally, let's describe what distinguishes these clusters. For each cluster answer the following questions.\n",
    "* Did this cluster have the `highest` scores for a particular `well-being metric(s)` (compared to the other clusters)? If so, which metrics(s)?\n",
    "* Did this cluster have the `lowest` scores for a particular `well-being metric(s)` (compared to the other clusters)? If so, which metrics(s)?\n",
    "\n",
    "**Note: Unfortunately, even if you fix a random state in the KMeans() function, the LABELS assigned to each of your $k$ CLUSTERS may change, while your actual CLUSTERS themselves will not change.**\n",
    "\n",
    "For instance, the following two tables below represent two separate ways to *represent* the same clustering of a set of observations (1,2,3,4,5).\n",
    "* Because observations 1 and 2 were given the same label, they are together in one cluster.\n",
    "* Because observations 4 and 5 were given the same label, they are together in another cluster.\n",
    "* Because observations 3 is the only one with this distinct label it is by itself in it's own cluster.\n",
    "\n",
    "\n",
    "Because the cluster labels (but not the clusters themselves) change in the KMeans() function, it's best to not actually use the cluster label numbers \"0,1,2,...\" in your description. Just say \"one cluster of counties prefers this...\", \"while another group of counties prefers this...\".\n",
    "\n",
    "<p>&nbsp;</p>\n",
    "<table style=\"border: none;border-collapse: collapse;width:267pt;\">\n",
    "    <tbody>\n",
    "        <tr>\n",
    "            <td style=\"color:black;font-size:15px;font-weight:400;font-style:normal;text-decoration:none;font-family:Calibri, sans-serif;text-align:general;vertical-align:bottom;border:.5pt solid windowtext;height:28.5pt;width:58pt;\">Observation</td>\n",
    "            <td style=\"color:black;font-size:15px;font-weight:400;font-style:normal;text-decoration:none;font-family:Calibri, sans-serif;text-align:right;vertical-align:bottom;border:.5pt solid windowtext;border-left:none;width:45pt;\">Cluster Labels</td>\n",
    "            <td style=\"color:black;font-size:15px;font-weight:400;font-style:normal;text-decoration:none;font-family:Calibri, sans-serif;text-align:general;vertical-align:bottom;border:none;width:51pt;\"><br></td>\n",
    "            <td style=\"color:black;font-size:15px;font-weight:400;font-style:normal;text-decoration:none;font-family:Calibri, sans-serif;text-align:general;vertical-align:bottom;border:.5pt solid windowtext;width:62pt;\">Observation</td>\n",
    "            <td style=\"color:black;font-size:15px;font-weight:400;font-style:normal;text-decoration:none;font-family:Calibri, sans-serif;text-align:right;vertical-align:bottom;border:.5pt solid windowtext;border-left:none;width:51pt;\">Cluster Labels</td>\n",
    "        </tr>\n",
    "        <tr>\n",
    "            <td style=\"color:black;font-size:15px;font-weight:400;font-style:normal;text-decoration:none;font-family:Calibri, sans-serif;text-align:right;vertical-align:bottom;border:.5pt solid windowtext;height:14.25pt;border-top:none;\">1</td>\n",
    "            <td style=\"color:black;font-size:15px;font-weight:400;font-style:normal;text-decoration:none;font-family:Calibri, sans-serif;text-align:right;vertical-align:bottom;border:.5pt solid windowtext;border-top:none;border-left:none;\">0</td>\n",
    "            <td style=\"color:black;font-size:15px;font-weight:400;font-style:normal;text-decoration:none;font-family:Calibri, sans-serif;text-align:general;vertical-align:bottom;border:none;\"><br></td>\n",
    "            <td style=\"color:black;font-size:15px;font-weight:400;font-style:normal;text-decoration:none;font-family:Calibri, sans-serif;text-align:right;vertical-align:bottom;border:.5pt solid windowtext;border-top:none;\">1</td>\n",
    "            <td style=\"color:black;font-size:15px;font-weight:400;font-style:normal;text-decoration:none;font-family:Calibri, sans-serif;text-align:right;vertical-align:bottom;border:.5pt solid windowtext;border-top:none;border-left:none;\">Nick</td>\n",
    "        </tr>\n",
    "        <tr>\n",
    "            <td style=\"color:black;font-size:15px;font-weight:400;font-style:normal;text-decoration:none;font-family:Calibri, sans-serif;text-align:right;vertical-align:bottom;border:.5pt solid windowtext;height:14.25pt;border-top:none;\">2</td>\n",
    "            <td style=\"color:black;font-size:15px;font-weight:400;font-style:normal;text-decoration:none;font-family:Calibri, sans-serif;text-align:right;vertical-align:bottom;border:.5pt solid windowtext;border-top:none;border-left:none;\">0</td>\n",
    "            <td style=\"color:black;font-size:15px;font-weight:400;font-style:normal;text-decoration:none;font-family:Calibri, sans-serif;text-align:general;vertical-align:bottom;border:none;\"><br></td>\n",
    "            <td style=\"color:black;font-size:15px;font-weight:400;font-style:normal;text-decoration:none;font-family:Calibri, sans-serif;text-align:right;vertical-align:bottom;border:.5pt solid windowtext;border-top:none;\">2</td>\n",
    "            <td style=\"color:black;font-size:15px;font-weight:400;font-style:normal;text-decoration:none;font-family:Calibri, sans-serif;text-align:right;vertical-align:bottom;border:.5pt solid windowtext;border-top:none;border-left:none;\">Nick</td>\n",
    "        </tr>\n",
    "        <tr>\n",
    "            <td style=\"color:black;font-size:15px;font-weight:400;font-style:normal;text-decoration:none;font-family:Calibri, sans-serif;text-align:right;vertical-align:bottom;border:.5pt solid windowtext;height:14.25pt;border-top:none;\">3</td>\n",
    "            <td style=\"color:black;font-size:15px;font-weight:400;font-style:normal;text-decoration:none;font-family:Calibri, sans-serif;text-align:right;vertical-align:bottom;border:.5pt solid windowtext;border-top:none;border-left:none;\">1</td>\n",
    "            <td style=\"color:black;font-size:15px;font-weight:400;font-style:normal;text-decoration:none;font-family:Calibri, sans-serif;text-align:general;vertical-align:bottom;border:none;\"><br></td>\n",
    "            <td style=\"color:black;font-size:15px;font-weight:400;font-style:normal;text-decoration:none;font-family:Calibri, sans-serif;text-align:right;vertical-align:bottom;border:.5pt solid windowtext;border-top:none;\">3</td>\n",
    "            <td style=\"color:black;font-size:15px;font-weight:400;font-style:normal;text-decoration:none;font-family:Calibri, sans-serif;text-align:right;vertical-align:bottom;border:.5pt solid windowtext;border-top:none;border-left:none;\">Joe</td>\n",
    "        </tr>\n",
    "        <tr>\n",
    "            <td style=\"color:black;font-size:15px;font-weight:400;font-style:normal;text-decoration:none;font-family:Calibri, sans-serif;text-align:right;vertical-align:bottom;border:.5pt solid windowtext;height:14.25pt;border-top:none;\">4</td>\n",
    "            <td style=\"color:black;font-size:15px;font-weight:400;font-style:normal;text-decoration:none;font-family:Calibri, sans-serif;text-align:right;vertical-align:bottom;border:.5pt solid windowtext;border-top:none;border-left:none;\">2</td>\n",
    "            <td style=\"color:black;font-size:15px;font-weight:400;font-style:normal;text-decoration:none;font-family:Calibri, sans-serif;text-align:general;vertical-align:bottom;border:none;\"><br></td>\n",
    "            <td style=\"color:black;font-size:15px;font-weight:400;font-style:normal;text-decoration:none;font-family:Calibri, sans-serif;text-align:right;vertical-align:bottom;border:.5pt solid windowtext;border-top:none;\">4</td>\n",
    "            <td style=\"color:black;font-size:15px;font-weight:400;font-style:normal;text-decoration:none;font-family:Calibri, sans-serif;text-align:right;vertical-align:bottom;border:.5pt solid windowtext;border-top:none;border-left:none;\">Kevin</td>\n",
    "        </tr>\n",
    "        <tr>\n",
    "            <td style=\"color:black;font-size:15px;font-weight:400;font-style:normal;text-decoration:none;font-family:Calibri, sans-serif;text-align:right;vertical-align:bottom;border:.5pt solid windowtext;height:14.25pt;border-top:none;\">5</td>\n",
    "            <td style=\"color:black;font-size:15px;font-weight:400;font-style:normal;text-decoration:none;font-family:Calibri, sans-serif;text-align:right;vertical-align:bottom;border:.5pt solid windowtext;border-top:none;border-left:none;\">2</td>\n",
    "            <td style=\"color:black;font-size:15px;font-weight:400;font-style:normal;text-decoration:none;font-family:Calibri, sans-serif;text-align:general;vertical-align:bottom;border:none;\"><br></td>\n",
    "            <td style=\"color:black;font-size:15px;font-weight:400;font-style:normal;text-decoration:none;font-family:Calibri, sans-serif;text-align:right;vertical-align:bottom;border:.5pt solid windowtext;border-top:none;\">5</td>\n",
    "            <td style=\"color:black;font-size:15px;font-weight:400;font-style:normal;text-decoration:none;font-family:Calibri, sans-serif;text-align:right;vertical-align:bottom;border:.5pt solid windowtext;border-top:none;border-left:none;\">Kevin</td>\n",
    "        </tr>\n",
    "    </tbody>\n",
    "</table>"
   ]
  },
  {
   "cell_type": "markdown",
   "metadata": {},
   "source": []
  }
 ],
 "metadata": {
  "colab": {
   "collapsed_sections": [],
   "name": "Assignment_01.ipynb",
   "provenance": [],
   "toc_visible": true
  },
  "kernelspec": {
   "display_name": "Python 3 (ipykernel)",
   "language": "python",
   "name": "python3"
  },
  "language_info": {
   "codemirror_mode": {
    "name": "ipython",
    "version": 3
   },
   "file_extension": ".py",
   "mimetype": "text/x-python",
   "name": "python",
   "nbconvert_exporter": "python",
   "pygments_lexer": "ipython3",
   "version": "3.9.12"
  }
 },
 "nbformat": 4,
 "nbformat_minor": 1
}
